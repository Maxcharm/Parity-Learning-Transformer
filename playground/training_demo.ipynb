{
 "cells": [
  {
   "cell_type": "code",
   "execution_count": 1,
   "id": "1df401aa",
   "metadata": {},
   "outputs": [
    {
     "name": "stderr",
     "output_type": "stream",
     "text": [
      "/home/han/miniconda3/envs/fl/lib/python3.10/site-packages/tqdm/auto.py:21: TqdmWarning: IProgress not found. Please update jupyter and ipywidgets. See https://ipywidgets.readthedocs.io/en/stable/user_install.html\n",
      "  from .autonotebook import tqdm as notebook_tqdm\n"
     ]
    }
   ],
   "source": [
    "import datasets\n",
    "\n",
    "dataset = datasets.load_dataset(\"synthseq/flipflop\")"
   ]
  },
  {
   "cell_type": "code",
   "execution_count": 2,
   "id": "a8bcaf8c",
   "metadata": {},
   "outputs": [],
   "source": [
    "flip_flop_dict = {'0': 0, \"1\": 1, \"w\": 2,\"r\": 3, \"i\": 4}"
   ]
  },
  {
   "cell_type": "code",
   "execution_count": 3,
   "id": "b983737b",
   "metadata": {},
   "outputs": [],
   "source": [
    "import torch\n",
    "def tokenize_raw(batch):\n",
    "    tokenized = [[flip_flop_dict[char] for char in s] for s in batch[\"text\"]]\n",
    "    return {\"tokens\": torch.tensor(tokenized, dtype=torch.int64)}"
   ]
  },
  {
   "cell_type": "code",
   "execution_count": 4,
   "id": "62c82a16",
   "metadata": {},
   "outputs": [],
   "source": [
    "dataset.set_transform(tokenize_raw)"
   ]
  },
  {
   "cell_type": "code",
   "execution_count": 5,
   "id": "ef1fb141",
   "metadata": {},
   "outputs": [
    {
     "name": "stderr",
     "output_type": "stream",
     "text": [
      "/tmp/ipykernel_7964/3597878062.py:9: UserWarning: To copy construct from a tensor, it is recommended to use sourceTensor.clone().detach() or sourceTensor.clone().detach().requires_grad_(True), rather than torch.tensor(sourceTensor).\n",
      "  tokens = torch.tensor(tokens, dtype=torch.long)\n"
     ]
    }
   ],
   "source": [
    "import torch\n",
    "from torch.utils.data import DataLoader\n",
    "\n",
    "class NextTokenDataset(torch.utils.data.Dataset):\n",
    "    def __init__(self, hf_dataset):\n",
    "        self.data = []\n",
    "        for item in hf_dataset:\n",
    "            tokens = item[\"tokens\"]\n",
    "            tokens = torch.tensor(tokens, dtype=torch.long)\n",
    "            x = tokens[:-1]\n",
    "            y = tokens[1:]\n",
    "            self.data.append((x, y))\n",
    "\n",
    "    def __len__(self):\n",
    "        return len(self.data)\n",
    "\n",
    "    def __getitem__(self, idx):\n",
    "        return self.data[idx] \n",
    "\n",
    "train_small = dataset[\"train\"].select(range(8192))\n",
    "val_small = dataset[\"val\"].select(range(512))\n",
    "train_dataset = NextTokenDataset(train_small)\n",
    "val_dataset = NextTokenDataset(val_small)\n",
    "\n",
    "train_loader = DataLoader(train_dataset, batch_size=64, shuffle=True)\n",
    "val_loader = DataLoader(val_dataset, batch_size=64)"
   ]
  },
  {
   "cell_type": "code",
   "execution_count": 6,
   "id": "b5074720",
   "metadata": {},
   "outputs": [],
   "source": [
    "import torch.nn as nn\n",
    "import math\n",
    "\n",
    "class Sinusoidal_Embedding(nn.Module):\n",
    "    def __init__(self, embed_dim, max_len=512):\n",
    "        super().__init__()\n",
    "        pe = torch.zeros(max_len, embed_dim)\n",
    "        position = torch.arange(0, max_len).unsqueeze(1)\n",
    "        div_term = torch.exp(\n",
    "            torch.arange(0, embed_dim, 2) * (-math.log(10000.0) / embed_dim)\n",
    "        )\n",
    "        pe[:, 0::2] = torch.sin(position * div_term)\n",
    "        pe[:, 1::2] = torch.cos(position * div_term)\n",
    "        self.register_buffer(\"pe\", pe) \n",
    "\n",
    "    def forward(self, x):\n",
    "        return self.pe[:x.size(1)].unsqueeze(0).expand(x.size(0), -1, -1)"
   ]
  },
  {
   "cell_type": "code",
   "execution_count": 7,
   "id": "9b8fdea1",
   "metadata": {},
   "outputs": [],
   "source": [
    "# https://stackoverflow.com/questions/71998978/early-stopping-in-pytorch idea and implementation from stack-overflow\n",
    "class EarlyStopper:\n",
    "    def __init__(self, patience=1, min_delta=0):\n",
    "        self.patience = patience\n",
    "        self.min_delta = min_delta\n",
    "        self.counter = 0\n",
    "        self.min_validation_loss = float('inf')\n",
    "\n",
    "    def early_stop(self, validation_loss):\n",
    "        if validation_loss < self.min_validation_loss:\n",
    "            self.min_validation_loss = validation_loss\n",
    "            self.counter = 0\n",
    "        elif validation_loss > (self.min_validation_loss + self.min_delta):\n",
    "            self.counter += 1\n",
    "            if self.counter >= self.patience:\n",
    "                return True\n",
    "        return False"
   ]
  },
  {
   "cell_type": "code",
   "execution_count": 8,
   "id": "208b4181",
   "metadata": {},
   "outputs": [],
   "source": [
    "import torch.nn.functional as F\n",
    "\n",
    "class Transformer(nn.Module):\n",
    "    def __init__(\n",
    "            self,\n",
    "            max_seq_len:int,\n",
    "            dictionary_size:int,\n",
    "            num_attn_layer:int=2,\n",
    "            num_attn_heads:int=1,\n",
    "            attn_dim:int=8,\n",
    "            \n",
    "        ):\n",
    "        super().__init__()\n",
    "        self.word_embedding = nn.Embedding(\n",
    "            num_embeddings=dictionary_size,\n",
    "            embedding_dim=attn_dim,\n",
    "            )\n",
    "        self.positional_embedding = Sinusoidal_Embedding(\n",
    "            embed_dim=attn_dim,\n",
    "            max_len=max_seq_len\n",
    "        )\n",
    "        self.attention_layers = nn.ModuleList()\n",
    "\n",
    "        for _ in range(num_attn_layer):\n",
    "            self.attention_layers.append(nn.ModuleDict({\n",
    "                \"mha\": nn.MultiheadAttention(embed_dim=attn_dim, num_heads=num_attn_heads, dropout=True, batch_first=True),\n",
    "                \"ffn\": nn.Sequential(\n",
    "                    nn.Linear(attn_dim, attn_dim),\n",
    "                    nn.ReLU(),\n",
    "                    nn.Linear(attn_dim, attn_dim)\n",
    "                ),\n",
    "                \"norm1\": nn.LayerNorm(attn_dim),\n",
    "                \"norm2\": nn.LayerNorm(attn_dim),\n",
    "                \"dropout\": nn.Dropout(0.1),\n",
    "            }))\n",
    "\n",
    "        \n",
    "        self.attn_weights = [] \n",
    "\n",
    "        self.classification = nn.ModuleList([\n",
    "            nn.Linear(in_features=attn_dim, out_features=attn_dim),\n",
    "            nn.ReLU(),\n",
    "            nn.Linear(in_features=attn_dim, out_features=dictionary_size)\n",
    "        ])\n",
    "\n",
    "    def forward(self, x, need_weights=False):\n",
    "        \"\"\"\n",
    "        shape of x should be: (batch_size, seq_len)\n",
    "        \"\"\"\n",
    "        seq_len = x.size()[1]\n",
    "        word_emb = self.word_embedding(x)\n",
    "        pos_emb = self.positional_embedding(x)\n",
    "        emb = word_emb + pos_emb\n",
    "\n",
    "        attn_mask = torch.triu(torch.ones(seq_len, seq_len), diagonal=1).bool().to(emb.device)\n",
    "\n",
    "        for layer in self.attention_layers:\n",
    "            residual = emb\n",
    "            attn_output, attn_w = layer[\"mha\"](emb, emb, emb, attn_mask=attn_mask, need_weights=need_weights)\n",
    "            emb = layer[\"norm1\"](residual + layer[\"dropout\"](attn_output))\n",
    "\n",
    "            if need_weights:\n",
    "                self.attn_weights.append(attn_w.detach().cpu())\n",
    "\n",
    "            residual = emb\n",
    "            emb = layer[\"norm2\"](residual + layer[\"dropout\"](layer[\"ffn\"](emb)))\n",
    "\n",
    "        \n",
    "        for layer in self.classification:\n",
    "            emb = layer(emb)\n",
    "\n",
    "        return emb"
   ]
  },
  {
   "cell_type": "code",
   "execution_count": 9,
   "id": "89ea55b0",
   "metadata": {},
   "outputs": [
    {
     "name": "stdout",
     "output_type": "stream",
     "text": [
      "Epoch 1: train loss = nan, val loss = nan\n",
      "Epoch 2: train loss = nan, val loss = nan\n",
      "Epoch 3: train loss = nan, val loss = nan\n",
      "Epoch 4: train loss = nan, val loss = nan\n"
     ]
    },
    {
     "ename": "KeyboardInterrupt",
     "evalue": "",
     "output_type": "error",
     "traceback": [
      "\u001b[0;31m---------------------------------------------------------------------------\u001b[0m",
      "\u001b[0;31mKeyboardInterrupt\u001b[0m                         Traceback (most recent call last)",
      "Cell \u001b[0;32mIn[9], line 40\u001b[0m\n\u001b[1;32m     37\u001b[0m loss_fn \u001b[38;5;241m=\u001b[39m nn\u001b[38;5;241m.\u001b[39mCrossEntropyLoss()\n\u001b[1;32m     39\u001b[0m \u001b[38;5;28;01mfor\u001b[39;00m epoch \u001b[38;5;129;01min\u001b[39;00m \u001b[38;5;28mrange\u001b[39m(\u001b[38;5;241m100\u001b[39m):\n\u001b[0;32m---> 40\u001b[0m     train_loss \u001b[38;5;241m=\u001b[39m \u001b[43mtrain_epoch\u001b[49m\u001b[43m(\u001b[49m\u001b[43mmodel\u001b[49m\u001b[43m,\u001b[49m\u001b[43m \u001b[49m\u001b[43mtrain_loader\u001b[49m\u001b[43m,\u001b[49m\u001b[43m \u001b[49m\u001b[43moptimizer\u001b[49m\u001b[43m,\u001b[49m\u001b[43m \u001b[49m\u001b[43mloss_fn\u001b[49m\u001b[43m)\u001b[49m\n\u001b[1;32m     41\u001b[0m     val_loss \u001b[38;5;241m=\u001b[39m eval_epoch(model, val_loader, loss_fn)\n\u001b[1;32m     42\u001b[0m     \u001b[38;5;28mprint\u001b[39m(\u001b[38;5;124mf\u001b[39m\u001b[38;5;124m\"\u001b[39m\u001b[38;5;124mEpoch \u001b[39m\u001b[38;5;132;01m{\u001b[39;00mepoch\u001b[38;5;241m+\u001b[39m\u001b[38;5;241m1\u001b[39m\u001b[38;5;132;01m}\u001b[39;00m\u001b[38;5;124m: train loss = \u001b[39m\u001b[38;5;132;01m{\u001b[39;00mtrain_loss\u001b[38;5;132;01m:\u001b[39;00m\u001b[38;5;124m.4f\u001b[39m\u001b[38;5;132;01m}\u001b[39;00m\u001b[38;5;124m, val loss = \u001b[39m\u001b[38;5;132;01m{\u001b[39;00mval_loss\u001b[38;5;132;01m:\u001b[39;00m\u001b[38;5;124m.4f\u001b[39m\u001b[38;5;132;01m}\u001b[39;00m\u001b[38;5;124m\"\u001b[39m)\n",
      "Cell \u001b[0;32mIn[9], line 16\u001b[0m, in \u001b[0;36mtrain_epoch\u001b[0;34m(model, loader, optimizer, loss_fn)\u001b[0m\n\u001b[1;32m     14\u001b[0m     loss\u001b[38;5;241m.\u001b[39mbackward()\n\u001b[1;32m     15\u001b[0m     optimizer\u001b[38;5;241m.\u001b[39mstep()\n\u001b[0;32m---> 16\u001b[0m     total_loss \u001b[38;5;241m+\u001b[39m\u001b[38;5;241m=\u001b[39m \u001b[43mloss\u001b[49m\u001b[38;5;241;43m.\u001b[39;49m\u001b[43mitem\u001b[49m\u001b[43m(\u001b[49m\u001b[43m)\u001b[49m\n\u001b[1;32m     17\u001b[0m \u001b[38;5;28;01mreturn\u001b[39;00m total_loss \u001b[38;5;241m/\u001b[39m \u001b[38;5;28mlen\u001b[39m(loader)\n",
      "\u001b[0;31mKeyboardInterrupt\u001b[0m: "
     ]
    }
   ],
   "source": [
    "device = torch.device(\"cuda\" if torch.cuda.is_available() else \"cpu\")\n",
    "\n",
    "def train_epoch(model, loader, optimizer, loss_fn):\n",
    "    model.train()\n",
    "    total_loss = 0\n",
    "    for x, y in loader:\n",
    "        x = x.to(device)\n",
    "        y = y.to(device)\n",
    "        logits = model(x)  # (batch, seq_len, vocab_size)\n",
    "\n",
    "        loss = loss_fn(logits.view(-1, logits.size(-1)), y.view(-1))\n",
    "\n",
    "        optimizer.zero_grad()\n",
    "        loss.backward()\n",
    "        optimizer.step()\n",
    "        total_loss += loss.item()\n",
    "    return total_loss / len(loader)\n",
    "\n",
    "def eval_epoch(model, loader, loss_fn):\n",
    "    model.eval()\n",
    "    total_loss = 0\n",
    "    with torch.no_grad():\n",
    "        for x, y in loader:\n",
    "            x = x.to(device)\n",
    "            y = y.to(device)\n",
    "            logits = model(x)\n",
    "            loss = loss_fn(logits.view(-1, logits.size(-1)), y.view(-1))\n",
    "            total_loss += loss.item()\n",
    "    return total_loss / len(loader)\n",
    "vocab_size = 5\n",
    "\n",
    "early_stopper = EarlyStopper(patience=5)\n",
    "\n",
    "model = Transformer(max_seq_len=512, num_attn_layer=2, dictionary_size=vocab_size)\n",
    "model = model.to(device)\n",
    "optimizer = torch.optim.Adam(model.parameters(), lr=6e-3)\n",
    "loss_fn = nn.CrossEntropyLoss()\n",
    "\n",
    "for epoch in range(100):\n",
    "    train_loss = train_epoch(model, train_loader, optimizer, loss_fn)\n",
    "    val_loss = eval_epoch(model, val_loader, loss_fn)\n",
    "    print(f\"Epoch {epoch+1}: train loss = {train_loss:.4f}, val loss = {val_loss:.4f}\")\n",
    "    if early_stopper.early_stop(val_loss):\n",
    "        break"
   ]
  },
  {
   "cell_type": "code",
   "execution_count": null,
   "id": "6834f485",
   "metadata": {},
   "outputs": [
    {
     "name": "stdout",
     "output_type": "stream",
     "text": [
      "2\n"
     ]
    },
    {
     "data": {
      "image/png": "[encoded data removed]",
      "text/plain": [
       "<Figure size 600x500 with 2 Axes>"
      ]
     },
     "metadata": {},
     "output_type": "display_data"
    },
    {
     "data": {
      "image/png": "[encoded data removed]",
      "text/plain": [
       "<Figure size 600x500 with 2 Axes>"
      ]
     },
     "metadata": {},
     "output_type": "display_data"
    }
   ],
   "source": [
    "import matplotlib.pyplot as plt\n",
    "import seaborn as sns\n",
    "\n",
    "def visualize_attention(attn_weights, token_labels=None):\n",
    "    for layer_idx, layer_attn in enumerate(attn_weights):\n",
    "        layer_attn = layer_attn[0].detach().numpy()\n",
    "        plt.figure(figsize=(6, 5))\n",
    "        sns.heatmap(layer_attn, annot=False, cmap=\"Blues\", xticklabels=token_labels, yticklabels=token_labels)\n",
    "        plt.title(f\"Layer {layer_idx}\")\n",
    "        plt.xlabel(\"Key positions\")\n",
    "        plt.ylabel(\"Query positions\")\n",
    "            \n",
    "        plt.show()\n",
    "\n",
    "sentence = \"w0w1i0i0w0r0\"\n",
    "ids = torch.tensor([[flip_flop_dict[c] for c in sentence]])  # [1, seq_len]\n",
    "model.eval()\n",
    "_ = model(ids, need_weights=True)\n",
    "attn_weights = model.attn_weights\n",
    "print(len(attn_weights))\n",
    "\n",
    "# Visualize\n",
    "visualize_attention(attn_weights, token_labels=list(sentence))"
   ]
  },
  {
   "cell_type": "code",
   "execution_count": null,
   "id": "958e18e2",
   "metadata": {},
   "outputs": [
    {
     "name": "stdout",
     "output_type": "stream",
     "text": [
      "Generated flip-flop sentence: w1w1w1r0i0i0i0i0i\n"
     ]
    }
   ],
   "source": [
    "def generate_sequence(model, id_to_token, max_len=10):\n",
    "    model.eval()\n",
    "    generated = [2, 1, 2, 1, 2, 1, 3]\n",
    "    \n",
    "    for _ in range(max_len):\n",
    "        input_tensor = torch.tensor(generated, dtype=torch.long).unsqueeze(1)  # [seq_len, 1]\n",
    "        \n",
    "        with torch.no_grad():\n",
    "            output = model(input_tensor)  # [seq_len, 1, vocab_size]\n",
    "        \n",
    "        next_token_logits = output[-1, 0]  # last token's logits: [vocab_size]\n",
    "        next_token = torch.argmax(F.softmax(next_token_logits, dim=-1)).item()\n",
    "        \n",
    "        generated.append(next_token)\n",
    "\n",
    "    # Convert token IDs back to characters\n",
    "    decoded = [id_to_token[token_id] for token_id in generated if token_id in id_to_token]\n",
    "    return decoded\n",
    "\n",
    "\n",
    "id_to_token = {v: k for k, v in flip_flop_dict.items()}\n",
    "\n",
    "\n",
    "generated_sentence = generate_sequence(model, id_to_token=id_to_token)\n",
    "\n",
    "print(\"Generated flip-flop sentence:\", \"\".join(generated_sentence))\n"
   ]
  }
 ],
 "metadata": {
  "kernelspec": {
   "display_name": "fl",
   "language": "python",
   "name": "python3"
  },
  "language_info": {
   "codemirror_mode": {
    "name": "ipython",
    "version": 3
   },
   "file_extension": ".py",
   "mimetype": "text/x-python",
   "name": "python",
   "nbconvert_exporter": "python",
   "pygments_lexer": "ipython3",
   "version": "3.10.16"
  }
 },
 "nbformat": 4,
 "nbformat_minor": 5
}
