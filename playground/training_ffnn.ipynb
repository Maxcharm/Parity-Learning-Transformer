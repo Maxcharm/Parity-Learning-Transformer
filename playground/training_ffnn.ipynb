{
 "cells": [
  {
   "cell_type": "code",
   "execution_count": 1,
   "metadata": {},
   "outputs": [],
   "source": [
    "import torch.nn as nn\n",
    "import torch\n",
    "import random\n",
    "from torch.utils.data import DataLoader, TensorDataset\n",
    "from torchmetrics import HingeLoss\n",
    "import numpy as np\n",
    "from matplotlib import pyplot as plt\n",
    "from datetime import datetime"
   ]
  },
  {
   "cell_type": "code",
   "execution_count": 2,
   "metadata": {},
   "outputs": [],
   "source": [
    "def simple_data_generator(\n",
    "        k: int = 3,\n",
    "        n: int = 20,\n",
    "        ):\n",
    "    parity_bits = random.sample(range(n), k)\n",
    "    num = 2 ** n\n",
    "    x = torch.zeros((num, n), dtype=torch.float32)\n",
    "    for i in range(num):\n",
    "        x[i] = torch.tensor(\n",
    "            list(map(int, bin(i)[2:].zfill(n))), dtype=torch.float\n",
    "            )\n",
    "    y = x[:, parity_bits].sum(dim=1) % 2\n",
    "    # y = 2 * y - 1\n",
    "    y = y.reshape(-1, 1)\n",
    "\n",
    "    return x, y, parity_bits"
   ]
  },
  {
   "cell_type": "code",
   "execution_count": 3,
   "metadata": {},
   "outputs": [],
   "source": [
    "class MyHingeLoss(nn.Module):\n",
    "\n",
    "    def __init__(self):\n",
    "        super(MyHingeLoss, self).__init__()\n",
    "\n",
    "    def forward(self, output, target):\n",
    "        y_hat = output * 2 - 1\n",
    "        y_true = target * 2 - 1\n",
    "        hinge_loss = 1 - torch.mul(y_hat, y_true)\n",
    "        hinge_loss = torch.clamp(hinge_loss, min=0)\n",
    "        return (hinge_loss ** 2).mean()"
   ]
  },
  {
   "cell_type": "code",
   "execution_count": 10,
   "metadata": {},
   "outputs": [],
   "source": [
    "class FFNN(nn.Module):\n",
    "    def __init__(self, n, k: int = 3):\n",
    "        super().__init__()\n",
    "        self.network = nn.Sequential(\n",
    "            nn.Linear(out_features=k, in_features=n),\n",
    "            nn.ReLU(),\n",
    "            nn.Linear(out_features=1, in_features=k),\n",
    "        )\n",
    "        # self.initialize_params(k, n)\n",
    "        # self.freeze_params()\n",
    "    def initialize_params(self, k, n):\n",
    "        with torch.no_grad():\n",
    "            first_layer = self.network[0]\n",
    "            first_layer.bias.data = -torch.arange(k).float() - 0.5\n",
    "            first_layer.weight.normal_(mean=k/n, std=1.0)\n",
    "            # first_layer.weight.data = torch.ones(k, n) * k / n\n",
    "            second_layer = self.network[2]\n",
    "            weights = torch.tensor(\n",
    "                [((-1) ** i) * (2 + 4 * i) for i in range(k)],\n",
    "                dtype=torch.float32\n",
    "                )\n",
    "            second_layer.weight.data = weights.view(1, -1)  # Shape: (k, 1)\n",
    "            second_layer.bias.data = torch.Tensor([0])\n",
    "\n",
    "    def freeze_params(self):\n",
    "        self.network[0].bias.requires_grad = False\n",
    "        self.network[0].weight.requires_grad = True\n",
    "        self.network[2].weight.requires_grad = False\n",
    "        self.network[2].bias.requires_grad = False\n",
    "\n",
    "    def forward(self, x):\n",
    "        return self.network(x)"
   ]
  },
  {
   "cell_type": "code",
   "execution_count": 4,
   "metadata": {},
   "outputs": [],
   "source": [
    "length = 5\n",
    "k = 1"
   ]
  },
  {
   "cell_type": "code",
   "execution_count": 5,
   "metadata": {},
   "outputs": [],
   "source": [
    "def test(model, x, y):\n",
    "    pred = model(x)\n",
    "    predicted_classes = (pred >= 0.5).float()\n",
    "    correct_predictions = (predicted_classes == y).sum()\n",
    "    accuracy = correct_predictions / y.size(0)\n",
    "    return accuracy.item()"
   ]
  },
  {
   "cell_type": "code",
   "execution_count": 6,
   "metadata": {},
   "outputs": [],
   "source": [
    "\n",
    "epochs = 10000\n",
    "loss_fn = MyHingeLoss()\n",
    "x, y, bits = simple_data_generator(k, length)"
   ]
  },
  {
   "cell_type": "code",
   "execution_count": 8,
   "metadata": {},
   "outputs": [],
   "source": [
    "\n",
    "\n",
    "dataset = TensorDataset(x, y)\n",
    "dataloader = DataLoader(dataset)\n"
   ]
  },
  {
   "cell_type": "code",
   "execution_count": 252,
   "metadata": {},
   "outputs": [],
   "source": [
    "def plot_loss_percentile(all_losses, interval=200, title=\"no title\"):\n",
    "    losses = np.array(all_losses)\n",
    "\n",
    "    epochs = np.arange(losses.shape[1]) * interval  # Scale x-axis\n",
    "    median = np.median(losses, axis=0)\n",
    "    q20 = np.percentile(losses, 25, axis=0)\n",
    "    q80 = np.percentile(losses, 75, axis=0)\n",
    "    q10 = np.percentile(losses, 10, axis=0)\n",
    "    q90 = np.percentile(losses, 90, axis=0)\n",
    "\n",
    "    plt.plot(epochs, median, color='black', label='Median loss')\n",
    "    plt.fill_between(epochs, q20, q80, alpha=0.3, label='20–80%')\n",
    "    # plt.fill_between(epochs, q10, q90, alpha=0.2, label='10–90%')\n",
    "\n",
    "    plt.xlabel('Epoch')\n",
    "    plt.ylabel('Loss')\n",
    "    plt.ylim(0, 3)\n",
    "    plt.title(title)\n",
    "    plt.legend()\n",
    "    plt.grid(True)\n",
    "\n"
   ]
  },
  {
   "cell_type": "code",
   "execution_count": 65,
   "metadata": {},
   "outputs": [],
   "source": [
    "import math\n",
    "\n",
    "def simple_embedding(x):\n",
    "    length = len(x)\n",
    "    token_embedding = torch.stack(\n",
    "        [torch.tensor(x), 1 - torch.tensor(x)], dim=1\n",
    "        )\n",
    "\n",
    "    positions = torch.arange(\n",
    "        length, dtype=torch.float32\n",
    "        ) * (2 * math.pi / length)\n",
    "    positional_embeddings = torch.stack(\n",
    "        [torch.cos(positions), torch.sin(positions)], dim=1\n",
    "        )\n",
    "    encoded_tensor = torch.cat([token_embedding, positional_embeddings], dim=1)\n",
    "    return encoded_tensor"
   ]
  },
  {
   "cell_type": "code",
   "execution_count": 62,
   "metadata": {},
   "outputs": [],
   "source": [
    "\n",
    "def data_generator(\n",
    "        num_data: int,\n",
    "        k: int = 4,\n",
    "        n: int = 20,\n",
    "        ):\n",
    "    parity_bits = random.sample(range(n), k)\n",
    "    # parity_bits = [2, 4, 15]\n",
    "    num = 2 ** n\n",
    "    x = torch.zeros((num, n), dtype=torch.float32)\n",
    "    for i in range(num):\n",
    "        x[i] = torch.tensor(\n",
    "            list(map(int, bin(i)[2:].zfill(n))), dtype=torch.float\n",
    "            )\n",
    "    y = x[:, parity_bits].sum(dim=1) % 2\n",
    "    # y = 2 * y - 1\n",
    "    y = y.reshape(-1, 1)\n",
    "    x_embeddings = torch.stack([simple_embedding(row) for row in x])\n",
    "    indices = torch.randperm(num)[:num_data]\n",
    "    data_embeddings = x_embeddings[indices]\n",
    "    labels = y[indices]\n",
    "\n",
    "    return x_embeddings, y, data_embeddings, labels, parity_bits\n"
   ]
  },
  {
   "cell_type": "code",
   "execution_count": 161,
   "metadata": {},
   "outputs": [],
   "source": [
    "import torch.nn.functional as F\n",
    "class Attention(nn.Module):\n",
    "    def __init__(self, dim):\n",
    "        super(Attention, self).__init__()\n",
    "        self.A = nn.Parameter(torch.zeros(dim, dim))\n",
    "        self.v0 = torch.zeros(dim)\n",
    "        self.v0[0] = 1\n",
    "        theta = torch.rand(1) * 2 * torch.pi\n",
    "        with torch.no_grad():\n",
    "            self.A[0, 2] = torch.cos(theta)\n",
    "            self.A[0, 3] = torch.sin(theta) \n",
    "        self.mask = torch.zeros(dim, dim)\n",
    "        self.mask[0, 2] = 1\n",
    "        self.mask[0, 3] = 1\n",
    "\n",
    "    def forward(self, v):\n",
    "        A_masked = self.A * self.mask\n",
    "        Av0 = torch.matmul(self.v0, A_masked)\n",
    "        scores = torch.matmul(v, Av0.unsqueeze(-1)).squeeze(-1)\n",
    "        temperature = 1 / 5\n",
    "        scores /= temperature\n",
    "        attention_weights = F.softmax(scores, dim=-1)\n",
    "        weighted_sum = torch.matmul(attention_weights.unsqueeze(1), v).squeeze(1)\n",
    "        return weighted_sum"
   ]
  },
  {
   "cell_type": "code",
   "execution_count": 12,
   "metadata": {},
   "outputs": [],
   "source": [
    "\n",
    "class parity_NN(nn.Module):\n",
    "    def __init__(self, k: int = 3) -> None:\n",
    "        super().__init__()\n",
    "        self.attention_heads = [Attention(dim=4) for _ in range(k)]\n",
    "        self.network = nn.Sequential(\n",
    "            nn.Linear(4, k),\n",
    "            nn.ReLU(),\n",
    "            nn.Linear(k, 1),\n",
    "            )\n",
    "        self.freeze_params()\n",
    "        self.initialize_params(k)\n",
    "\n",
    "    def initialize_params(self, k):\n",
    "        with torch.no_grad():\n",
    "            first_layer = self.network[0]\n",
    "            weight_pattern = torch.zeros(k, 4)\n",
    "\n",
    "            for i in range(k):\n",
    "                weight_pattern[i, :] = torch.tensor([k, 0, 0, 0])\n",
    "\n",
    "            first_layer.weight.data = weight_pattern\n",
    "            first_layer.bias.data = -torch.arange(k).float() - 0.5\n",
    "\n",
    "            second_layer = self.network[2]\n",
    "            weights = torch.tensor(\n",
    "                [((-1) ** i) * (2 + 4 * i) for i in range(k)],\n",
    "                dtype=torch.float32\n",
    "                )\n",
    "            second_layer.weight.data = weights.view(1, -1)\n",
    "            second_layer.bias.data = torch.Tensor([0])\n",
    "\n",
    "    def freeze_params(self):\n",
    "        for param in self.network.parameters():\n",
    "            param.requires_grad = False\n",
    "\n",
    "    def forward(self, x):\n",
    "        attention_vectors = []\n",
    "        for head in self.attention_heads:\n",
    "            attn_output = head(x)\n",
    "            attention_vectors.append(attn_output)\n",
    "        stacked_tensors = torch.stack(attention_vectors)\n",
    "        attention_vectors = stacked_tensors.mean(dim=0)\n",
    "        # attention_vectors = torch.concat(attention_vectors, dim=1)\n",
    "        return self.network(attention_vectors)\n"
   ]
  },
  {
   "cell_type": "code",
   "execution_count": 322,
   "metadata": {},
   "outputs": [],
   "source": [
    "from tqdm import tqdm\n",
    "def record_loss_trend(model_name, length, k, num_runs = 1000, epochs=10000, interval = 200):\n",
    "    all_losses = []\n",
    "    loss_fn = HingeLoss(task=\"binary\")\n",
    "    squared_fn = MyHingeLoss()\n",
    "    record_epochs = list(range(0, epochs, interval)) \n",
    "    for run in tqdm(range(num_runs)):\n",
    "        if model_name == parity_NN:\n",
    "            x, y, _, _, _ = data_generator(30, k, length)\n",
    "            model = model_name(k)\n",
    "            attention_params = []\n",
    "            for i in range(k):\n",
    "                attention_params += list(\n",
    "                    model.attention_heads[i].parameters()\n",
    "                )\n",
    "            optimizer = torch.optim.Adam(attention_params, lr=1e-2)\n",
    "        elif model_name == FFNN:\n",
    "            x, y, _ = simple_data_generator(k, length)\n",
    "            model = FFNN(length, k*2)\n",
    "            optimizer = torch.optim.SGD(model.parameters(), lr = 2e-3)\n",
    "        model.train()\n",
    "        run_losses = []\n",
    "        \n",
    "\n",
    "        for epoch in range(epochs):\n",
    "            pred = model(x)\n",
    "            loss = loss_fn(pred, y)\n",
    "            optimizer.zero_grad()\n",
    "            loss.backward()\n",
    "            loss_sq = squared_fn(pred, y)\n",
    "            optimizer.step()\n",
    "\n",
    "            if epoch in record_epochs:\n",
    "                run_losses.append(loss_sq.item())\n",
    "        all_losses.append(run_losses)\n",
    "    return np.array(all_losses)"
   ]
  },
  {
   "cell_type": "code",
   "execution_count": 327,
   "metadata": {},
   "outputs": [
    {
     "name": "stderr",
     "output_type": "stream",
     "text": [
      "  0%|          | 0/30 [00:00<?, ?it/s]/tmp/ipykernel_3601756/52618165.py:6: UserWarning: To copy construct from a tensor, it is recommended to use sourceTensor.clone().detach() or sourceTensor.clone().detach().requires_grad_(True), rather than torch.tensor(sourceTensor).\n",
      "  [torch.tensor(x), 1 - torch.tensor(x)], dim=1\n",
      "100%|██████████| 30/30 [02:26<00:00,  4.88s/it]\n"
     ]
    }
   ],
   "source": [
    "length = 10\n",
    "k = 2\n",
    "losses = record_loss_trend(parity_NN, length, k, 30, 2000, 200)"
   ]
  },
  {
   "cell_type": "code",
   "execution_count": null,
   "metadata": {},
   "outputs": [],
   "source": [
    "np.save(open(\"transformer_parity_losses_10_3.npy\", \"wb\"), losses)"
   ]
  },
  {
   "cell_type": "code",
   "execution_count": 328,
   "metadata": {},
   "outputs": [
    {
     "data": {
      "image/png": "[encoded data removed]",
      "text/plain": [
       "<Figure size 640x480 with 1 Axes>"
      ]
     },
     "metadata": {},
     "output_type": "display_data"
    }
   ],
   "source": [
    "plot_loss_percentile(losses, 200, title=\"Statistics of Loss Trends with transformers (n=10, k=3)\")"
   ]
  },
  {
   "cell_type": "code",
   "execution_count": null,
   "metadata": {},
   "outputs": [],
   "source": []
  }
 ],
 "metadata": {
  "kernelspec": {
   "display_name": "fl",
   "language": "python",
   "name": "python3"
  },
  "language_info": {
   "codemirror_mode": {
    "name": "ipython",
    "version": 3
   },
   "file_extension": ".py",
   "mimetype": "text/x-python",
   "name": "python",
   "nbconvert_exporter": "python",
   "pygments_lexer": "ipython3",
   "version": "3.10.16"
  }
 },
 "nbformat": 4,
 "nbformat_minor": 2
}
